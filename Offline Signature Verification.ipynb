{
 "cells": [
  {
   "cell_type": "code",
   "execution_count": 3,
   "metadata": {},
   "outputs": [],
   "source": [
    "# import tensorflow as tf\n",
    "# import tensorflow_hub as hub\n",
    "import numpy as np\n",
    "import os\n",
    "import pandas as pd\n",
    "import matplotlib.pyplot as plt \n",
    "import base64\n",
    "from PIL import Image\n",
    "import io\n",
    "import math \n",
    "from math import sqrt\n",
    "\n",
    "\n",
    "%matplotlib inline\n",
    "\n",
    "# global embed\n",
    "# embed = hub.KerasLayer(os.getcwd())\n"
   ]
  },
  {
   "cell_type": "code",
   "execution_count": 2,
   "metadata": {},
   "outputs": [
    {
     "name": "stdout",
     "output_type": "stream",
     "text": [
      "1.15.0\n"
     ]
    }
   ],
   "source": [
    "print(tf.__version__)"
   ]
  },
  {
   "cell_type": "code",
   "execution_count": 3,
   "metadata": {},
   "outputs": [
    {
     "name": "stdout",
     "output_type": "stream",
     "text": [
      "0.7.0\n"
     ]
    }
   ],
   "source": [
    "print(hub.__version__)"
   ]
  },
  {
   "cell_type": "code",
   "execution_count": 4,
   "metadata": {},
   "outputs": [],
   "source": [
    "import cv2"
   ]
  },
  {
   "cell_type": "code",
   "execution_count": 5,
   "metadata": {},
   "outputs": [
    {
     "name": "stdout",
     "output_type": "stream",
     "text": [
      ".ipynb_checkpoints\n",
      "assets\n",
      "Convert txt file to json.ipynb\n",
      "DATAFILE.xlsx\n",
      "Hindi OCR Detection\n",
      "Hindi OCR Detection of data from PDF to EXCEL.ipynb\n",
      "Offline Signature Verification.ipynb\n",
      "Perform TF-IDF, identify keywords calculate cosine similarity from pdf..ipynb\n",
      "saved_model.pb\n",
      "sign1.png\n",
      "sign2.png\n",
      "sign3.png\n",
      "sign4.png\n",
      "Validate gstins from mongo database.ipynb\n",
      "variables\n"
     ]
    }
   ],
   "source": [
    "for x in os.listdir(\".\"):\n",
    "    print(x)"
   ]
  },
  {
   "cell_type": "code",
   "execution_count": 13,
   "metadata": {},
   "outputs": [],
   "source": [
    "class TensorVector(object):\n",
    "\n",
    "    def __init__(self, FileName=None):\n",
    "        self.FileName = FileName\n",
    "\n",
    "    def process(self):\n",
    "\n",
    "        img = tf.io.read_file(self.FileName)\n",
    "        img = tf.io.decode_jpeg(img, channels=3)\n",
    "        img = tf.image.resize_image_with_pad(img, 224, 224)\n",
    "        img = tf.image.convert_image_dtype(img,tf.float32)[tf.newaxis, ...]\n",
    "        print(type(img))\n",
    "        print(img)\n",
    "        features = embed(img)\n",
    "        with tf.compat.v1.Session() as sess:\n",
    "            sess.run(tf.global_variables_initializer())\n",
    "            result = sess.run(features)\n",
    "            feature_set = np.squeeze(result)\n",
    "            print(feature_set)\n",
    "        return list(feature_set)"
   ]
  },
  {
   "cell_type": "code",
   "execution_count": 22,
   "metadata": {},
   "outputs": [
    {
     "name": "stdout",
     "output_type": "stream",
     "text": [
      "<class 'tensorflow.python.framework.ops.Tensor'>\n",
      "Tensor(\"strided_slice_8:0\", shape=(1, 224, 224, 3), dtype=float32)\n",
      "[0.152945   1.6521535  0.7748809  ... 0.         0.03957734 0.10745107]\n"
     ]
    },
    {
     "data": {
      "text/plain": [
       "1280"
      ]
     },
     "execution_count": 22,
     "metadata": {},
     "output_type": "execute_result"
    }
   ],
   "source": [
    "helper = TensorVector(\"pic1.jpg\")\n",
    "vector1 = helper.process()\n",
    "len(vector1)"
   ]
  },
  {
   "cell_type": "code",
   "execution_count": 23,
   "metadata": {},
   "outputs": [
    {
     "name": "stdout",
     "output_type": "stream",
     "text": [
      "<class 'tensorflow.python.framework.ops.Tensor'>\n",
      "Tensor(\"strided_slice_9:0\", shape=(1, 224, 224, 3), dtype=float32)\n",
      "[0.34372595 2.9066012  0.07810421 ... 0.         0.         0.08889853]\n"
     ]
    },
    {
     "data": {
      "text/plain": [
       "1280"
      ]
     },
     "execution_count": 23,
     "metadata": {},
     "output_type": "execute_result"
    }
   ],
   "source": [
    "helper = TensorVector(\"pic2.jpg\")\n",
    "vector2 = helper.process()\n",
    "len(vector2)"
   ]
  },
  {
   "cell_type": "code",
   "execution_count": 8,
   "metadata": {},
   "outputs": [],
   "source": [
    "def convertBase64(FileName):\n",
    "    \"\"\"\n",
    "    Return the Numpy array for a image \n",
    "    \"\"\"\n",
    "    with open(FileName, \"rb\") as f:\n",
    "        data = f.read()\n",
    "        \n",
    "    res = base64.b64encode(data)\n",
    "    \n",
    "    base64data = res.decode(\"UTF-8\")\n",
    "    \n",
    "    imgdata = base64.b64decode(base64data)\n",
    "    \n",
    "    image = Image.open(io.BytesIO(imgdata))\n",
    "    \n",
    "    return np.array(image)"
   ]
  },
  {
   "cell_type": "code",
   "execution_count": 10,
   "metadata": {},
   "outputs": [
    {
     "data": {
      "text/plain": [
       "<matplotlib.image.AxesImage at 0x6a0c080>"
      ]
     },
     "execution_count": 10,
     "metadata": {},
     "output_type": "execute_result"
    },
    {
     "data": {
      "image/png": "[encoded data removed]",
      "text/plain": [
       "<Figure size 432x288 with 1 Axes>"
      ]
     },
     "metadata": {
      "needs_background": "light"
     },
     "output_type": "display_data"
    }
   ],
   "source": [
    "# image1 = cv2.resize(convertBase64(\"sign1.png\"),(100,100))\n",
    "image1=convertBase64(\"sign1.png\")\n",
    "image1.shape\n",
    "plt.imshow(image1)"
   ]
  },
  {
   "cell_type": "code",
   "execution_count": 19,
   "metadata": {},
   "outputs": [
    {
     "data": {
      "text/plain": [
       "(110, 457)"
      ]
     },
     "execution_count": 19,
     "metadata": {},
     "output_type": "execute_result"
    }
   ],
   "source": [
    "image2=convertBase64(\"sign2.png\")\n",
    "image2.shape\n",
    "# plt.imshow(image2)"
   ]
  },
  {
   "cell_type": "code",
   "execution_count": 12,
   "metadata": {},
   "outputs": [
    {
     "data": {
      "text/plain": [
       "(96, 450)"
      ]
     },
     "execution_count": 12,
     "metadata": {},
     "output_type": "execute_result"
    }
   ],
   "source": [
    "# plt.imshow(convertBase64(\"sign3.png\"))\n",
    "image2=convertBase64(\"sign4.png\")\n",
    "image2.shape"
   ]
  },
  {
   "cell_type": "code",
   "execution_count": 32,
   "metadata": {},
   "outputs": [
    {
     "data": {
      "text/plain": [
       "<matplotlib.image.AxesImage at 0x1924cc88>"
      ]
     },
     "execution_count": 32,
     "metadata": {},
     "output_type": "execute_result"
    },
    {
     "data": {
      "image/png": "[encoded data removed]",
      "text/plain": [
       "<Figure size 432x288 with 1 Axes>"
      ]
     },
     "metadata": {
      "needs_background": "light"
     },
     "output_type": "display_data"
    }
   ],
   "source": [
    "plt.imshow(convertBase64(\"sign4.png\"))"
   ]
  },
  {
   "cell_type": "code",
   "execution_count": 18,
   "metadata": {},
   "outputs": [],
   "source": [
    "def cosineSim(a1,a2):\n",
    "    sum = 0\n",
    "    suma1 = 0\n",
    "    sumb1 = 0\n",
    "    for i,j in zip(a1, a2):\n",
    "        suma1 += i * i\n",
    "        sumb1 += j*j\n",
    "        sum += i*j\n",
    "    cosine_sim = sum / ((sqrt(suma1))*(sqrt(sumb1)))\n",
    "    return cosine_sim"
   ]
  },
  {
   "cell_type": "code",
   "execution_count": 24,
   "metadata": {},
   "outputs": [
    {
     "data": {
      "text/plain": [
       "0.8377129235753008"
      ]
     },
     "execution_count": 24,
     "metadata": {},
     "output_type": "execute_result"
    }
   ],
   "source": [
    "cosineSim(vector1, vector2)"
   ]
  },
  {
   "cell_type": "code",
   "execution_count": 34,
   "metadata": {},
   "outputs": [
    {
     "data": {
      "text/plain": [
       "<matplotlib.image.AxesImage at 0x5464940>"
      ]
     },
     "execution_count": 34,
     "metadata": {},
     "output_type": "execute_result"
    },
    {
     "data": {
      "image/png": "[encoded data removed]",
      "text/plain": [
       "<Figure size 432x288 with 1 Axes>"
      ]
     },
     "metadata": {
      "needs_background": "light"
     },
     "output_type": "display_data"
    }
   ],
   "source": [
    "# from imageio import imread\n",
    "# import cv2\n",
    "image = imread(\"sign3.png\")\n",
    "# image=cv2.cvtColor(image, cv2.COLOR_BGR2GRAY)\n",
    "plt.imshow(image)"
   ]
  },
  {
   "cell_type": "code",
   "execution_count": 35,
   "metadata": {},
   "outputs": [
    {
     "data": {
      "text/plain": [
       "array([[255., 255., 255., ..., 255., 255., 255.],\n",
       "       [255., 255., 255., ..., 255., 255., 255.],\n",
       "       [255., 255., 255., ..., 255., 255., 255.],\n",
       "       ...,\n",
       "       [255., 255., 255., ..., 255., 255., 255.],\n",
       "       [255., 255., 255., ..., 255., 255., 255.],\n",
       "       [255., 255., 255., ..., 255., 255., 255.]], dtype=float32)"
      ]
     },
     "execution_count": 35,
     "metadata": {},
     "output_type": "execute_result"
    }
   ],
   "source": [
    "image = cv2.resize(image,(100,100))\n",
    "image=image.astype(np.float32)\n",
    "image"
   ]
  },
  {
   "cell_type": "code",
   "execution_count": 36,
   "metadata": {},
   "outputs": [
    {
     "data": {
      "text/plain": [
       "array([[255., 255., 255., ..., 255., 255., 255.],\n",
       "       [255., 255., 255., ..., 255., 255., 255.],\n",
       "       [255., 255., 255., ..., 255., 255., 255.],\n",
       "       ...,\n",
       "       [255., 255., 255., ..., 255., 255., 255.],\n",
       "       [255., 255., 255., ..., 255., 255., 255.],\n",
       "       [255., 255., 255., ..., 255., 255., 255.]], dtype=float32)"
      ]
     },
     "execution_count": 36,
     "metadata": {},
     "output_type": "execute_result"
    },
    {
     "data": {
      "image/png": "[encoded data removed]",
      "text/plain": [
       "<Figure size 432x288 with 1 Axes>"
      ]
     },
     "metadata": {
      "needs_background": "light"
     },
     "output_type": "display_data"
    }
   ],
   "source": [
    "image1 = imread(\"sign4.png\")\n",
    "# image1=cv2.cvtColor(image1, cv2.COLOR_BGR2GRAY) \n",
    "plt.imshow(image1)\n",
    "image1 = cv2.resize(image1,(100,100))\n",
    "image1=image1.astype(np.float32)\n",
    "image1"
   ]
  },
  {
   "cell_type": "code",
   "execution_count": 37,
   "metadata": {},
   "outputs": [
    {
     "data": {
      "text/plain": [
       "numpy.ndarray"
      ]
     },
     "execution_count": 37,
     "metadata": {},
     "output_type": "execute_result"
    }
   ],
   "source": [
    "image1.shape\n",
    "type(image)"
   ]
  },
  {
   "cell_type": "code",
   "execution_count": 40,
   "metadata": {},
   "outputs": [
    {
     "data": {
      "text/plain": [
       "-0.9467995219498845"
      ]
     },
     "execution_count": 40,
     "metadata": {},
     "output_type": "execute_result"
    }
   ],
   "source": [
    "similarity = caltheta(image.flatten(),image1.flatten())\n",
    "similarity"
   ]
  },
  {
   "cell_type": "code",
   "execution_count": 39,
   "metadata": {},
   "outputs": [],
   "source": [
    "def caltheta(A, B):\n",
    "    ab = A.dot(B)\n",
    "    aa = A.dot(A)\n",
    "    bb = B.dot(B)\n",
    "    return -ab / sqrt(aa*bb)"
   ]
  },
  {
   "cell_type": "code",
   "execution_count": 29,
   "metadata": {},
   "outputs": [
    {
     "data": {
      "text/plain": [
       "numpy.ndarray"
      ]
     },
     "execution_count": 29,
     "metadata": {},
     "output_type": "execute_result"
    }
   ],
   "source": [
    "# a_norm = np.linalg.norm(image, axis=1)\n",
    "# type(a_norm)\n",
    "# b_norm = np.linalg.norm(image1, axis=1)\n",
    "# (image @ image1) / (a_norm * b_norm)"
   ]
  },
  {
   "cell_type": "code",
   "execution_count": null,
   "metadata": {},
   "outputs": [],
   "source": []
  }
 ],
 "metadata": {
  "kernelspec": {
   "display_name": "Python 3",
   "language": "python",
   "name": "python3"
  },
  "language_info": {
   "codemirror_mode": {
    "name": "ipython",
    "version": 3
   },
   "file_extension": ".py",
   "mimetype": "text/x-python",
   "name": "python",
   "nbconvert_exporter": "python",
   "pygments_lexer": "ipython3",
   "version": "3.7.3"
  }
 },
 "nbformat": 4,
 "nbformat_minor": 2
}
